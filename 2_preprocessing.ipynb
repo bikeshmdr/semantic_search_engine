{
 "cells": [
  {
   "cell_type": "code",
   "execution_count": 1,
   "metadata": {},
   "outputs": [],
   "source": [
    "import pandas as pd\n"
   ]
  },
  {
   "cell_type": "code",
   "execution_count": 2,
   "metadata": {},
   "outputs": [],
   "source": [
    "df = pd.read_csv(\"dataset/cleaned_data.csv\")"
   ]
  },
  {
   "cell_type": "code",
   "execution_count": 3,
   "metadata": {},
   "outputs": [
    {
     "name": "stdout",
     "output_type": "stream",
     "text": [
      "<class 'pandas.core.frame.DataFrame'>\n",
      "RangeIndex: 210 entries, 0 to 209\n",
      "Data columns (total 8 columns):\n",
      " #   Column             Non-Null Count  Dtype \n",
      "---  ------             --------------  ----- \n",
      " 0   Product URL        210 non-null    object\n",
      " 1   Product Name       210 non-null    object\n",
      " 2   Product Price      209 non-null    object\n",
      " 3   Rating             208 non-null    object\n",
      " 4   Number of reviews  208 non-null    object\n",
      " 5   Manufacturer       154 non-null    object\n",
      " 6   ASIN               156 non-null    object\n",
      " 7   product_name       210 non-null    object\n",
      "dtypes: object(8)\n",
      "memory usage: 13.3+ KB\n"
     ]
    }
   ],
   "source": [
    "df.info()"
   ]
  },
  {
   "cell_type": "code",
   "execution_count": 4,
   "metadata": {},
   "outputs": [
    {
     "name": "stderr",
     "output_type": "stream",
     "text": [
      "d:\\dlytica_new\\env\\professional_course\\scementic_search\\Lib\\site-packages\\tqdm\\auto.py:21: TqdmWarning: IProgress not found. Please update jupyter and ipywidgets. See https://ipywidgets.readthedocs.io/en/stable/user_install.html\n",
      "  from .autonotebook import tqdm as notebook_tqdm\n"
     ]
    }
   ],
   "source": [
    "from transformers import BertTokenizer, BertModel\n",
    "import torch\n",
    "\n",
    "# Load the pre-trained BERT tokenizer and model\n",
    "tokenizer = BertTokenizer.from_pretrained('bert-base-uncased')\n",
    "model = BertModel.from_pretrained('bert-base-uncased')"
   ]
  },
  {
   "cell_type": "code",
   "execution_count": 5,
   "metadata": {},
   "outputs": [],
   "source": [
    "def get_word_embeddings(text, tokenizer, model):\n",
    "    # Tokenize the input text and get the input IDs and attention mask\n",
    "    inputs = tokenizer(text, return_tensors=\"pt\", padding=True, truncation=True, max_length=512)\n",
    "    \n",
    "    # Get the embeddings from the BERT model\n",
    "    with torch.no_grad():\n",
    "        outputs = model(**inputs)\n",
    "    \n",
    "    # outputs[0] contains the hidden states of all tokens in the input\n",
    "    # Shape of outputs[0]: [batch_size, sequence_length, hidden_size]\n",
    "    token_embeddings = outputs.last_hidden_state.squeeze(0)\n",
    "    \n",
    "    # Get the embeddings for each token (excluding special tokens like [CLS], [SEP])\n",
    "    token_embeddings = token_embeddings[1:-1]\n",
    "    \n",
    "    # Get the corresponding tokens\n",
    "    tokens = tokenizer.convert_ids_to_tokens(inputs[\"input_ids\"].squeeze(0))[1:-1]\n",
    "    \n",
    "    return tokens, token_embeddings\n"
   ]
  },
  {
   "cell_type": "code",
   "execution_count": 6,
   "metadata": {},
   "outputs": [],
   "source": [
    "# Initialize new columns to store tokens and embeddings as empty lists\n",
    "df['tokens'] = None\n",
    "df['embeddings'] = None\n",
    "\n",
    "# Loop through product names and get word embeddings\n",
    "for index, name in enumerate(df['product_name']):\n",
    "    tokens, embeddings = get_word_embeddings(name, tokenizer, model)\n",
    "    # Convert embeddings tensor to a NumPy array if it is a tensor\n",
    "    if isinstance(embeddings, torch.Tensor):\n",
    "        embeddings = embeddings.detach().cpu().numpy()  # Convert to NumPy array\n",
    "\n",
    "    # Store tokens and embeddings in the DataFrame\n",
    "    df.at[index, 'tokens'] = tokens  # Store tokens\n",
    "    df.at[index, 'embeddings'] = embeddings  # Store embeddings (tensor or array)\n"
   ]
  },
  {
   "cell_type": "code",
   "execution_count": 7,
   "metadata": {},
   "outputs": [],
   "source": [
    "# df.to_csv(\"dataset/preprocessed_data.csv\", index=False)\n",
    "\n",
    "# saving in pkl because tensor were being convert to str in csv\n",
    "# Save the DataFrame to a pickle file\n",
    "df.to_pickle('dataset/preprocessed_data.pkl')\n"
   ]
  }
 ],
 "metadata": {
  "kernelspec": {
   "display_name": "scementic_search",
   "language": "python",
   "name": "python3"
  },
  "language_info": {
   "codemirror_mode": {
    "name": "ipython",
    "version": 3
   },
   "file_extension": ".py",
   "mimetype": "text/x-python",
   "name": "python",
   "nbconvert_exporter": "python",
   "pygments_lexer": "ipython3",
   "version": "3.12.6"
  }
 },
 "nbformat": 4,
 "nbformat_minor": 2
}
