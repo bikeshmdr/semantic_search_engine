{
 "cells": [
  {
   "cell_type": "code",
   "execution_count": 32,
   "metadata": {},
   "outputs": [],
   "source": [
    "import pandas as pd\n"
   ]
  },
  {
   "cell_type": "code",
   "execution_count": 33,
   "metadata": {},
   "outputs": [],
   "source": [
    "# df = pd.read_csv(\"dataset/preprocessed_data.csv\")\n",
    "# Load the DataFrame from a pickle file\n",
    "\n",
    "df = pd.read_pickle('dataset/preprocessed_data.pkl')"
   ]
  },
  {
   "cell_type": "code",
   "execution_count": 34,
   "metadata": {},
   "outputs": [
    {
     "name": "stdout",
     "output_type": "stream",
     "text": [
      "<class 'pandas.core.frame.DataFrame'>\n",
      "RangeIndex: 210 entries, 0 to 209\n",
      "Data columns (total 10 columns):\n",
      " #   Column             Non-Null Count  Dtype \n",
      "---  ------             --------------  ----- \n",
      " 0   Product URL        210 non-null    object\n",
      " 1   Product Name       210 non-null    object\n",
      " 2   Product Price      209 non-null    object\n",
      " 3   Rating             208 non-null    object\n",
      " 4   Number of reviews  208 non-null    object\n",
      " 5   Manufacturer       154 non-null    object\n",
      " 6   ASIN               156 non-null    object\n",
      " 7   product_name       210 non-null    object\n",
      " 8   tokens             210 non-null    object\n",
      " 9   embeddings         210 non-null    object\n",
      "dtypes: object(10)\n",
      "memory usage: 16.5+ KB\n"
     ]
    }
   ],
   "source": [
    "df.info()"
   ]
  },
  {
   "cell_type": "code",
   "execution_count": 35,
   "metadata": {},
   "outputs": [],
   "source": [
    "from transformers import BertTokenizer, BertModel\n",
    "import torch\n",
    "\n",
    "# Load the pre-trained BERT tokenizer and model\n",
    "tokenizer = BertTokenizer.from_pretrained('bert-base-uncased')\n",
    "model = BertModel.from_pretrained('bert-base-uncased')"
   ]
  },
  {
   "cell_type": "code",
   "execution_count": 36,
   "metadata": {},
   "outputs": [],
   "source": [
    "def get_word_embeddings(text, tokenizer, model):\n",
    "    # Tokenize the input text and get the input IDs and attention mask\n",
    "    inputs = tokenizer(text, return_tensors=\"pt\", padding=True, truncation=True, max_length=512)\n",
    "    \n",
    "    # Get the embeddings from the BERT model\n",
    "    with torch.no_grad():\n",
    "        outputs = model(**inputs)\n",
    "    \n",
    "    # outputs[0] contains the hidden states of all tokens in the input\n",
    "    # Shape of outputs[0]: [batch_size, sequence_length, hidden_size]\n",
    "    token_embeddings = outputs.last_hidden_state.squeeze(0)\n",
    "    \n",
    "    # Get the embeddings for each token (excluding special tokens like [CLS], [SEP])\n",
    "    token_embeddings = token_embeddings[1:-1]\n",
    "    \n",
    "    # Get the corresponding tokens\n",
    "    tokens = tokenizer.convert_ids_to_tokens(inputs[\"input_ids\"].squeeze(0))[1:-1]\n",
    "    \n",
    "    return tokens, token_embeddings\n"
   ]
  },
  {
   "cell_type": "code",
   "execution_count": 37,
   "metadata": {},
   "outputs": [],
   "source": [
    "def process_and_sort_results(results, top_n=5):\n",
    "    # Initialize a dictionary to hold cumulative similarities and count of query tokens for each document\n",
    "    doc_similarity_aggregate = {}\n",
    "\n",
    "    # Iterate over each result to calculate cumulative similarity for each document\n",
    "    for result in results:\n",
    "        doc_idx = result['document_index']\n",
    "        similarity = result['similarity']\n",
    "\n",
    "        # If the document index is not already in the dictionary, initialize it\n",
    "        if doc_idx not in doc_similarity_aggregate:\n",
    "            doc_similarity_aggregate[doc_idx] = {\"total_similarity\": 0, \"count\": 0}\n",
    "\n",
    "        # Add the similarity score to the total similarity for the document and increment the token count\n",
    "        doc_similarity_aggregate[doc_idx][\"total_similarity\"] += similarity\n",
    "        doc_similarity_aggregate[doc_idx][\"count\"] += 1\n",
    "\n",
    "    # Calculate average similarity for each document\n",
    "    avg_similarities = []\n",
    "    for doc_idx, data in doc_similarity_aggregate.items():\n",
    "        avg_similarity = data[\"total_similarity\"] / data[\"count\"]  # Average similarity\n",
    "        avg_similarities.append({\"document_index\": doc_idx, \"avg_similarity\": avg_similarity})\n",
    "\n",
    "    # Sort documents by their average similarity in descending order and get the top N\n",
    "    sorted_docs = sorted(avg_similarities, key=lambda x: x['avg_similarity'], reverse=True)[:top_n]\n",
    "\n",
    "    return sorted_docs\n"
   ]
  },
  {
   "cell_type": "code",
   "execution_count": 38,
   "metadata": {},
   "outputs": [],
   "source": [
    "from sklearn.metrics.pairwise import cosine_similarity\n",
    "\n",
    "def word_level_search(query, document_tokens, document_embeddings, tokenizer, model):\n",
    "    # Get word embeddings for the query\n",
    "    query_tokens, query_embeddings = get_word_embeddings(query, tokenizer, model)\n",
    "    \n",
    "    # Store results (document index, query token, document token, similarity score)\n",
    "    results = []\n",
    "\n",
    "    # For each document, compute the cosine similarity between query words and document words\n",
    "    for doc_idx, doc_embedding in enumerate(document_embeddings):\n",
    "        if len(doc_embedding) == 0:  # Prevent errors if document has no embeddings\n",
    "            continue\n",
    "        \n",
    "        # Compute similarity scores for all query tokens against the document embedding\n",
    "        similarity_scores = cosine_similarity(query_embeddings, doc_embedding)\n",
    "        \n",
    "        # For each query token, find the most similar token in the document\n",
    "        for i, query_token in enumerate(query_tokens):\n",
    "            max_sim_idx = similarity_scores[i].argmax()\n",
    "            max_sim_score = similarity_scores[i][max_sim_idx]\n",
    "            \n",
    "            # Append results with the corresponding query token and the document index\n",
    "            results.append({\n",
    "                \"document_index\": doc_idx,  # Index of the document in the DataFrame\n",
    "                \"document_token\": document_tokens[doc_idx][max_sim_idx],\n",
    "                \"query_token\": query_token,\n",
    "                \"similarity\": max_sim_score\n",
    "            })\n",
    "    print(len(results))\n",
    "    print(results)\n",
    "    \n",
    "    return process_and_sort_results(results)\n"
   ]
  },
  {
   "cell_type": "code",
   "execution_count": 41,
   "metadata": {},
   "outputs": [
    {
     "name": "stdout",
     "output_type": "stream",
     "text": [
      "420\n",
      "[{'document_index': 0, 'document_token': 'sky', 'query_token': 'green', 'similarity': np.float32(0.4944315)}, {'document_index': 0, 'document_token': 'strap', 'query_token': 'bag', 'similarity': np.float32(0.62106425)}, {'document_index': 1, 'document_token': '##n', 'query_token': 'green', 'similarity': np.float32(0.46116313)}, {'document_index': 1, 'document_token': 'girl', 'query_token': 'bag', 'similarity': np.float32(0.58340687)}, {'document_index': 2, 'document_token': 'hike', 'query_token': 'green', 'similarity': np.float32(0.47003338)}, {'document_index': 2, 'document_token': 'college', 'query_token': 'bag', 'similarity': np.float32(0.56346166)}, {'document_index': 3, 'document_token': 'backpack', 'query_token': 'green', 'similarity': np.float32(0.46920735)}, {'document_index': 3, 'document_token': 'black', 'query_token': 'bag', 'similarity': np.float32(0.6247646)}, {'document_index': 4, 'document_token': 'safari', 'query_token': 'green', 'similarity': np.float32(0.48388395)}, {'document_index': 4, 'document_token': 'bag', 'query_token': 'bag', 'similarity': np.float32(0.6084171)}, {'document_index': 5, 'document_token': 'nylon', 'query_token': 'green', 'similarity': np.float32(0.48305237)}, {'document_index': 5, 'document_token': 'beige', 'query_token': 'bag', 'similarity': np.float32(0.61026603)}, {'document_index': 6, 'document_token': '##wood', 'query_token': 'green', 'similarity': np.float32(0.50581396)}, {'document_index': 6, 'document_token': 'black', 'query_token': 'bag', 'similarity': np.float32(0.60218585)}, {'document_index': 7, 'document_token': 'safari', 'query_token': 'green', 'similarity': np.float32(0.48388395)}, {'document_index': 7, 'document_token': 'bag', 'query_token': 'bag', 'similarity': np.float32(0.6084171)}, {'document_index': 8, 'document_token': 'office', 'query_token': 'green', 'similarity': np.float32(0.4720135)}, {'document_index': 8, 'document_token': 'blue', 'query_token': 'bag', 'similarity': np.float32(0.6344274)}, {'document_index': 9, 'document_token': 'black', 'query_token': 'green', 'similarity': np.float32(0.5485656)}, {'document_index': 9, 'document_token': 'pack', 'query_token': 'bag', 'similarity': np.float32(0.6045325)}, {'document_index': 10, 'document_token': 'leather', 'query_token': 'green', 'similarity': np.float32(0.44654205)}, {'document_index': 10, 'document_token': 'backpack', 'query_token': 'bag', 'similarity': np.float32(0.502267)}, {'document_index': 11, 'document_token': 'blue', 'query_token': 'green', 'similarity': np.float32(0.42210507)}, {'document_index': 11, 'document_token': 'blue', 'query_token': 'bag', 'similarity': np.float32(0.56798977)}, {'document_index': 12, 'document_token': 'safari', 'query_token': 'green', 'similarity': np.float32(0.48388395)}, {'document_index': 12, 'document_token': 'bag', 'query_token': 'bag', 'similarity': np.float32(0.6084171)}, {'document_index': 13, 'document_token': 'backpack', 'query_token': 'green', 'similarity': np.float32(0.43799266)}, {'document_index': 13, 'document_token': 'brown', 'query_token': 'bag', 'similarity': np.float32(0.5982676)}, {'document_index': 14, 'document_token': 'college', 'query_token': 'green', 'similarity': np.float32(0.46248224)}, {'document_index': 14, 'document_token': 'legend', 'query_token': 'bag', 'similarity': np.float32(0.6395126)}, {'document_index': 15, 'document_token': 'everyday', 'query_token': 'green', 'similarity': np.float32(0.48087162)}, {'document_index': 15, 'document_token': 'strap', 'query_token': 'bag', 'similarity': np.float32(0.48243114)}, {'document_index': 16, 'document_token': 'day', 'query_token': 'green', 'similarity': np.float32(0.48409846)}, {'document_index': 16, 'document_token': 'bag', 'query_token': 'bag', 'similarity': np.float32(0.5959859)}, {'document_index': 17, 'document_token': 'backpack', 'query_token': 'green', 'similarity': np.float32(0.41083848)}, {'document_index': 17, 'document_token': 'black', 'query_token': 'bag', 'similarity': np.float32(0.54476917)}, {'document_index': 18, 'document_token': 'black', 'query_token': 'green', 'similarity': np.float32(0.54858196)}, {'document_index': 18, 'document_token': 'backpack', 'query_token': 'bag', 'similarity': np.float32(0.53315145)}, {'document_index': 19, 'document_token': 'black', 'query_token': 'green', 'similarity': np.float32(0.5678239)}, {'document_index': 19, 'document_token': 'bag', 'query_token': 'bag', 'similarity': np.float32(0.7845269)}, {'document_index': 20, 'document_token': 'black', 'query_token': 'green', 'similarity': np.float32(0.45744345)}, {'document_index': 20, 'document_token': 'black', 'query_token': 'bag', 'similarity': np.float32(0.50088286)}, {'document_index': 21, 'document_token': 'boy', 'query_token': 'green', 'similarity': np.float32(0.4563649)}, {'document_index': 21, 'document_token': 'girl', 'query_token': 'bag', 'similarity': np.float32(0.6006565)}, {'document_index': 22, 'document_token': 'black', 'query_token': 'green', 'similarity': np.float32(0.5014005)}, {'document_index': 22, 'document_token': 'rectangular', 'query_token': 'bag', 'similarity': np.float32(0.64166284)}, {'document_index': 23, 'document_token': 'black', 'query_token': 'green', 'similarity': np.float32(0.48073104)}, {'document_index': 23, 'document_token': 'pack', 'query_token': 'bag', 'similarity': np.float32(0.6803211)}, {'document_index': 24, 'document_token': 'large', 'query_token': 'green', 'similarity': np.float32(0.49980757)}, {'document_index': 24, 'document_token': 'backpack', 'query_token': 'bag', 'similarity': np.float32(0.7091953)}, {'document_index': 25, 'document_token': 'backpack', 'query_token': 'green', 'similarity': np.float32(0.41201788)}, {'document_index': 25, 'document_token': 'backpack', 'query_token': 'bag', 'similarity': np.float32(0.4765262)}, {'document_index': 26, 'document_token': 'trolley', 'query_token': 'green', 'similarity': np.float32(0.46272448)}, {'document_index': 26, 'document_token': 'bag', 'query_token': 'bag', 'similarity': np.float32(0.6411079)}, {'document_index': 27, 'document_token': 'backpack', 'query_token': 'green', 'similarity': np.float32(0.4117049)}, {'document_index': 27, 'document_token': 'backpack', 'query_token': 'bag', 'similarity': np.float32(0.6581222)}, {'document_index': 28, 'document_token': 'college', 'query_token': 'green', 'similarity': np.float32(0.49911374)}, {'document_index': 28, 'document_token': 'compartment', 'query_token': 'bag', 'similarity': np.float32(0.61534667)}, {'document_index': 29, 'document_token': 'white', 'query_token': 'green', 'similarity': np.float32(0.5661284)}, {'document_index': 29, 'document_token': 'bag', 'query_token': 'bag', 'similarity': np.float32(0.6292129)}, {'document_index': 30, 'document_token': 'sky', 'query_token': 'green', 'similarity': np.float32(0.5025754)}, {'document_index': 30, 'document_token': 'black', 'query_token': 'bag', 'similarity': np.float32(0.6132431)}, {'document_index': 31, 'document_token': 'backpack', 'query_token': 'green', 'similarity': np.float32(0.4624837)}, {'document_index': 31, 'document_token': 'compatible', 'query_token': 'bag', 'similarity': np.float32(0.54893494)}, {'document_index': 32, 'document_token': 'standard', 'query_token': 'green', 'similarity': np.float32(0.4313605)}, {'document_index': 32, 'document_token': 'black', 'query_token': 'bag', 'similarity': np.float32(0.594645)}, {'document_index': 33, 'document_token': '##n', 'query_token': 'green', 'similarity': np.float32(0.46080154)}, {'document_index': 33, 'document_token': 'pocket', 'query_token': 'bag', 'similarity': np.float32(0.5643089)}, {'document_index': 34, 'document_token': '##n', 'query_token': 'green', 'similarity': np.float32(0.47326207)}, {'document_index': 34, 'document_token': 'bag', 'query_token': 'bag', 'similarity': np.float32(0.59406066)}, {'document_index': 35, 'document_token': 'backpack', 'query_token': 'green', 'similarity': np.float32(0.4709273)}, {'document_index': 35, 'document_token': 'bag', 'query_token': 'bag', 'similarity': np.float32(0.7080166)}, {'document_index': 36, 'document_token': 'office', 'query_token': 'green', 'similarity': np.float32(0.49248433)}, {'document_index': 36, 'document_token': 'bag', 'query_token': 'bag', 'similarity': np.float32(0.5772323)}, {'document_index': 37, 'document_token': 'grey', 'query_token': 'green', 'similarity': np.float32(0.44287342)}, {'document_index': 37, 'document_token': 'backpack', 'query_token': 'bag', 'similarity': np.float32(0.48705244)}, {'document_index': 38, 'document_token': 'school', 'query_token': 'green', 'similarity': np.float32(0.50537515)}, {'document_index': 38, 'document_token': 'bag', 'query_token': 'bag', 'similarity': np.float32(0.6365425)}, {'document_index': 39, 'document_token': 'school', 'query_token': 'green', 'similarity': np.float32(0.5142413)}, {'document_index': 39, 'document_token': 'bag', 'query_token': 'bag', 'similarity': np.float32(0.6302318)}, {'document_index': 40, 'document_token': 'school', 'query_token': 'green', 'similarity': np.float32(0.4929662)}, {'document_index': 40, 'document_token': 'bag', 'query_token': 'bag', 'similarity': np.float32(0.62727535)}, {'document_index': 41, 'document_token': 'lavender', 'query_token': 'green', 'similarity': np.float32(0.4585631)}, {'document_index': 41, 'document_token': 'color', 'query_token': 'bag', 'similarity': np.float32(0.5761151)}, {'document_index': 42, 'document_token': 'small', 'query_token': 'green', 'similarity': np.float32(0.42069674)}, {'document_index': 42, 'document_token': 'backpack', 'query_token': 'bag', 'similarity': np.float32(0.69891363)}, {'document_index': 43, 'document_token': 'casual', 'query_token': 'green', 'similarity': np.float32(0.47420955)}, {'document_index': 43, 'document_token': 'black', 'query_token': 'bag', 'similarity': np.float32(0.6053997)}, {'document_index': 44, 'document_token': 'sky', 'query_token': 'green', 'similarity': np.float32(0.490187)}, {'document_index': 44, 'document_token': 'blue', 'query_token': 'bag', 'similarity': np.float32(0.65411395)}, {'document_index': 45, 'document_token': 'laptop', 'query_token': 'green', 'similarity': np.float32(0.464993)}, {'document_index': 45, 'document_token': 'bag', 'query_token': 'bag', 'similarity': np.float32(0.56592226)}, {'document_index': 46, 'document_token': 'plastic', 'query_token': 'green', 'similarity': np.float32(0.49363476)}, {'document_index': 46, 'document_token': 'pack', 'query_token': 'bag', 'similarity': np.float32(0.6693076)}, {'document_index': 47, 'document_token': 'bag', 'query_token': 'green', 'similarity': np.float32(0.4198231)}, {'document_index': 47, 'document_token': 'blue', 'query_token': 'bag', 'similarity': np.float32(0.6262489)}, {'document_index': 48, 'document_token': 'trolley', 'query_token': 'green', 'similarity': np.float32(0.4504947)}, {'document_index': 48, 'document_token': 'aa', 'query_token': 'bag', 'similarity': np.float32(0.5463882)}, {'document_index': 49, 'document_token': 'separate', 'query_token': 'green', 'similarity': np.float32(0.48073182)}, {'document_index': 49, 'document_token': 'grey', 'query_token': 'bag', 'similarity': np.float32(0.60913813)}, {'document_index': 50, 'document_token': '##n', 'query_token': 'green', 'similarity': np.float32(0.48474818)}, {'document_index': 50, 'document_token': 'handle', 'query_token': 'bag', 'similarity': np.float32(0.61637443)}, {'document_index': 51, 'document_token': '##e', 'query_token': 'green', 'similarity': np.float32(0.4654606)}, {'document_index': 51, 'document_token': 'color', 'query_token': 'bag', 'similarity': np.float32(0.6099019)}, {'document_index': 52, 'document_token': '##e', 'query_token': 'green', 'similarity': np.float32(0.46625972)}, {'document_index': 52, 'document_token': 'color', 'query_token': 'bag', 'similarity': np.float32(0.5941948)}, {'document_index': 53, 'document_token': 'compartment', 'query_token': 'green', 'similarity': np.float32(0.46971267)}, {'document_index': 53, 'document_token': 'bag', 'query_token': 'bag', 'similarity': np.float32(0.61077315)}, {'document_index': 54, 'document_token': 'black', 'query_token': 'green', 'similarity': np.float32(0.52101123)}, {'document_index': 54, 'document_token': 'cm', 'query_token': 'bag', 'similarity': np.float32(0.65)}, {'document_index': 55, 'document_token': 'office', 'query_token': 'green', 'similarity': np.float32(0.48570293)}, {'document_index': 55, 'document_token': 'bag', 'query_token': 'bag', 'similarity': np.float32(0.61886543)}, {'document_index': 56, 'document_token': 'sky', 'query_token': 'green', 'similarity': np.float32(0.50244486)}, {'document_index': 56, 'document_token': 'black', 'query_token': 'bag', 'similarity': np.float32(0.6287086)}, {'document_index': 57, 'document_token': 'big', 'query_token': 'green', 'similarity': np.float32(0.43080416)}, {'document_index': 57, 'document_token': 'bag', 'query_token': 'bag', 'similarity': np.float32(0.60015243)}, {'document_index': 58, 'document_token': 'nylon', 'query_token': 'green', 'similarity': np.float32(0.4474894)}, {'document_index': 58, 'document_token': 'bag', 'query_token': 'bag', 'similarity': np.float32(0.5801668)}, {'document_index': 59, 'document_token': 'black', 'query_token': 'green', 'similarity': np.float32(0.46341485)}, {'document_index': 59, 'document_token': 'bag', 'query_token': 'bag', 'similarity': np.float32(0.63383853)}, {'document_index': 60, 'document_token': 'green', 'query_token': 'green', 'similarity': np.float32(0.6902186)}, {'document_index': 60, 'document_token': 'bag', 'query_token': 'bag', 'similarity': np.float32(0.61700565)}, {'document_index': 61, 'document_token': 'backpack', 'query_token': 'green', 'similarity': np.float32(0.45201194)}, {'document_index': 61, 'document_token': 'black', 'query_token': 'bag', 'similarity': np.float32(0.567898)}, {'document_index': 62, 'document_token': 'blue', 'query_token': 'green', 'similarity': np.float32(0.58105564)}, {'document_index': 62, 'document_token': 'leaf', 'query_token': 'bag', 'similarity': np.float32(0.61993754)}, {'document_index': 63, 'document_token': 'backpack', 'query_token': 'green', 'similarity': np.float32(0.4653509)}, {'document_index': 63, 'document_token': 'organizer', 'query_token': 'bag', 'similarity': np.float32(0.5470735)}, {'document_index': 64, 'document_token': 'litre', 'query_token': 'green', 'similarity': np.float32(0.4833351)}, {'document_index': 64, 'document_token': '##ize', 'query_token': 'bag', 'similarity': np.float32(0.6044423)}, {'document_index': 65, 'document_token': 'orange', 'query_token': 'green', 'similarity': np.float32(0.5852264)}, {'document_index': 65, 'document_token': 'bag', 'query_token': 'bag', 'similarity': np.float32(0.63943577)}, {'document_index': 66, 'document_token': '##te', 'query_token': 'green', 'similarity': np.float32(0.46969047)}, {'document_index': 66, 'document_token': 'bag', 'query_token': 'bag', 'similarity': np.float32(0.82539713)}, {'document_index': 67, 'document_token': '##e', 'query_token': 'green', 'similarity': np.float32(0.48286718)}, {'document_index': 67, 'document_token': 'packing', 'query_token': 'bag', 'similarity': np.float32(0.66708696)}, {'document_index': 68, 'document_token': 'green', 'query_token': 'green', 'similarity': np.float32(0.7402505)}, {'document_index': 68, 'document_token': 'cm', 'query_token': 'bag', 'similarity': np.float32(0.6469051)}, {'document_index': 69, 'document_token': '##n', 'query_token': 'green', 'similarity': np.float32(0.44683862)}, {'document_index': 69, 'document_token': 'bag', 'query_token': 'bag', 'similarity': np.float32(0.59732217)}, {'document_index': 70, 'document_token': 'black', 'query_token': 'green', 'similarity': np.float32(0.45324147)}, {'document_index': 70, 'document_token': 'navy', 'query_token': 'bag', 'similarity': np.float32(0.6136963)}, {'document_index': 71, 'document_token': 'green', 'query_token': 'green', 'similarity': np.float32(0.6845128)}, {'document_index': 71, 'document_token': 'color', 'query_token': 'bag', 'similarity': np.float32(0.58860767)}, {'document_index': 72, 'document_token': 'compartment', 'query_token': 'green', 'similarity': np.float32(0.46971267)}, {'document_index': 72, 'document_token': 'bag', 'query_token': 'bag', 'similarity': np.float32(0.61077315)}, {'document_index': 73, 'document_token': 'water', 'query_token': 'green', 'similarity': np.float32(0.4771525)}, {'document_index': 73, 'document_token': 'bag', 'query_token': 'bag', 'similarity': np.float32(0.5752419)}, {'document_index': 74, 'document_token': 'lavender', 'query_token': 'green', 'similarity': np.float32(0.4528835)}, {'document_index': 74, 'document_token': 'color', 'query_token': 'bag', 'similarity': np.float32(0.5890032)}, {'document_index': 75, 'document_token': 'portable', 'query_token': 'green', 'similarity': np.float32(0.43374547)}, {'document_index': 75, 'document_token': 'cm', 'query_token': 'bag', 'similarity': np.float32(0.6210512)}, {'document_index': 76, 'document_token': '##y', 'query_token': 'green', 'similarity': np.float32(0.45175222)}, {'document_index': 76, 'document_token': 'bag', 'query_token': 'bag', 'similarity': np.float32(0.6211183)}, {'document_index': 77, 'document_token': 'gym', 'query_token': 'green', 'similarity': np.float32(0.43914348)}, {'document_index': 77, 'document_token': 'bag', 'query_token': 'bag', 'similarity': np.float32(0.7050342)}, {'document_index': 78, 'document_token': 'sky', 'query_token': 'green', 'similarity': np.float32(0.5398346)}, {'document_index': 78, 'document_token': '##l', 'query_token': 'bag', 'similarity': np.float32(0.5695199)}, {'document_index': 79, 'document_token': 'black', 'query_token': 'green', 'similarity': np.float32(0.4359831)}, {'document_index': 79, 'document_token': 'litre', 'query_token': 'bag', 'similarity': np.float32(0.6167021)}, {'document_index': 80, 'document_token': 'college', 'query_token': 'green', 'similarity': np.float32(0.46125403)}, {'document_index': 80, 'document_token': 'bag', 'query_token': 'bag', 'similarity': np.float32(0.61032903)}, {'document_index': 81, 'document_token': 'college', 'query_token': 'green', 'similarity': np.float32(0.47219115)}, {'document_index': 81, 'document_token': 'bag', 'query_token': 'bag', 'similarity': np.float32(0.591899)}, {'document_index': 82, 'document_token': 'lavender', 'query_token': 'green', 'similarity': np.float32(0.4585631)}, {'document_index': 82, 'document_token': 'color', 'query_token': 'bag', 'similarity': np.float32(0.5761151)}, {'document_index': 83, 'document_token': 'backpack', 'query_token': 'green', 'similarity': np.float32(0.45930335)}, {'document_index': 83, 'document_token': 'black', 'query_token': 'bag', 'similarity': np.float32(0.5866833)}, {'document_index': 84, 'document_token': 'black', 'query_token': 'green', 'similarity': np.float32(0.46220857)}, {'document_index': 84, 'document_token': 'pack', 'query_token': 'bag', 'similarity': np.float32(0.69859385)}, {'document_index': 85, 'document_token': 'backpack', 'query_token': 'green', 'similarity': np.float32(0.44532418)}, {'document_index': 85, 'document_token': 'backpack', 'query_token': 'bag', 'similarity': np.float32(0.52047306)}, {'document_index': 86, 'document_token': 'urban', 'query_token': 'green', 'similarity': np.float32(0.49927798)}, {'document_index': 86, 'document_token': 'backpack', 'query_token': 'bag', 'similarity': np.float32(0.66719306)}, {'document_index': 87, 'document_token': '##n', 'query_token': 'green', 'similarity': np.float32(0.46025065)}, {'document_index': 87, 'document_token': 'bag', 'query_token': 'bag', 'similarity': np.float32(0.5213716)}, {'document_index': 88, 'document_token': 'black', 'query_token': 'green', 'similarity': np.float32(0.5240209)}, {'document_index': 88, 'document_token': 'inch', 'query_token': 'bag', 'similarity': np.float32(0.6644932)}, {'document_index': 89, 'document_token': 'school', 'query_token': 'green', 'similarity': np.float32(0.5014503)}, {'document_index': 89, 'document_token': 'gift', 'query_token': 'bag', 'similarity': np.float32(0.57798827)}, {'document_index': 90, 'document_token': 'large', 'query_token': 'green', 'similarity': np.float32(0.42948622)}, {'document_index': 90, 'document_token': 'black', 'query_token': 'bag', 'similarity': np.float32(0.6579251)}, {'document_index': 91, 'document_token': 'black', 'query_token': 'green', 'similarity': np.float32(0.53284925)}, {'document_index': 91, 'document_token': 'backpack', 'query_token': 'bag', 'similarity': np.float32(0.5203829)}, {'document_index': 92, 'document_token': 'blue', 'query_token': 'green', 'similarity': np.float32(0.4853901)}, {'document_index': 92, 'document_token': 'set', 'query_token': 'bag', 'similarity': np.float32(0.5683112)}, {'document_index': 93, 'document_token': 'cm', 'query_token': 'green', 'similarity': np.float32(0.4612886)}, {'document_index': 93, 'document_token': 'white', 'query_token': 'bag', 'similarity': np.float32(0.58017606)}, {'document_index': 94, 'document_token': 'new', 'query_token': 'green', 'similarity': np.float32(0.47667643)}, {'document_index': 94, 'document_token': 'blue', 'query_token': 'bag', 'similarity': np.float32(0.6378987)}, {'document_index': 95, 'document_token': 'black', 'query_token': 'green', 'similarity': np.float32(0.44142824)}, {'document_index': 95, 'document_token': 'bag', 'query_token': 'bag', 'similarity': np.float32(0.5701471)}, {'document_index': 96, 'document_token': 'green', 'query_token': 'green', 'similarity': np.float32(0.678231)}, {'document_index': 96, 'document_token': 'color', 'query_token': 'bag', 'similarity': np.float32(0.6188771)}, {'document_index': 97, 'document_token': 'black', 'query_token': 'green', 'similarity': np.float32(0.5240209)}, {'document_index': 97, 'document_token': 'inch', 'query_token': 'bag', 'similarity': np.float32(0.6644932)}, {'document_index': 98, 'document_token': 'shoulder', 'query_token': 'green', 'similarity': np.float32(0.48641658)}, {'document_index': 98, 'document_token': 'woman', 'query_token': 'bag', 'similarity': np.float32(0.59710026)}, {'document_index': 99, 'document_token': 'everyday', 'query_token': 'green', 'similarity': np.float32(0.5065523)}, {'document_index': 99, 'document_token': 'backpack', 'query_token': 'bag', 'similarity': np.float32(0.531015)}, {'document_index': 100, 'document_token': 'green', 'query_token': 'green', 'similarity': np.float32(0.54856724)}, {'document_index': 100, 'document_token': 'green', 'query_token': 'bag', 'similarity': np.float32(0.6145039)}, {'document_index': 101, 'document_token': 'school', 'query_token': 'green', 'similarity': np.float32(0.45474455)}, {'document_index': 101, 'document_token': 'backpack', 'query_token': 'bag', 'similarity': np.float32(0.4953527)}, {'document_index': 102, 'document_token': 'black', 'query_token': 'green', 'similarity': np.float32(0.44142824)}, {'document_index': 102, 'document_token': 'bag', 'query_token': 'bag', 'similarity': np.float32(0.5701471)}, {'document_index': 103, 'document_token': '##n', 'query_token': 'green', 'similarity': np.float32(0.46025065)}, {'document_index': 103, 'document_token': 'bag', 'query_token': 'bag', 'similarity': np.float32(0.5213716)}, {'document_index': 104, 'document_token': 'large', 'query_token': 'green', 'similarity': np.float32(0.42948622)}, {'document_index': 104, 'document_token': 'black', 'query_token': 'bag', 'similarity': np.float32(0.6579251)}, {'document_index': 105, 'document_token': 'college', 'query_token': 'green', 'similarity': np.float32(0.46125403)}, {'document_index': 105, 'document_token': 'bag', 'query_token': 'bag', 'similarity': np.float32(0.61032903)}, {'document_index': 106, 'document_token': 'cm', 'query_token': 'green', 'similarity': np.float32(0.4612886)}, {'document_index': 106, 'document_token': 'white', 'query_token': 'bag', 'similarity': np.float32(0.58017606)}, {'document_index': 107, 'document_token': 'black', 'query_token': 'green', 'similarity': np.float32(0.48007685)}, {'document_index': 107, 'document_token': 'pc', 'query_token': 'bag', 'similarity': np.float32(0.61292726)}, {'document_index': 108, 'document_token': 'college', 'query_token': 'green', 'similarity': np.float32(0.47219115)}, {'document_index': 108, 'document_token': 'bag', 'query_token': 'bag', 'similarity': np.float32(0.591899)}, {'document_index': 109, 'document_token': 'black', 'query_token': 'green', 'similarity': np.float32(0.4359831)}, {'document_index': 109, 'document_token': 'litre', 'query_token': 'bag', 'similarity': np.float32(0.6167021)}, {'document_index': 110, 'document_token': 'blue', 'query_token': 'green', 'similarity': np.float32(0.4853901)}, {'document_index': 110, 'document_token': 'set', 'query_token': 'bag', 'similarity': np.float32(0.5683112)}, {'document_index': 111, 'document_token': 'backpack', 'query_token': 'green', 'similarity': np.float32(0.50021136)}, {'document_index': 111, 'document_token': 'girl', 'query_token': 'bag', 'similarity': np.float32(0.5977395)}, {'document_index': 112, 'document_token': 'school', 'query_token': 'green', 'similarity': np.float32(0.5014503)}, {'document_index': 112, 'document_token': 'gift', 'query_token': 'bag', 'similarity': np.float32(0.57798827)}, {'document_index': 113, 'document_token': 'cm', 'query_token': 'green', 'similarity': np.float32(0.4612886)}, {'document_index': 113, 'document_token': 'white', 'query_token': 'bag', 'similarity': np.float32(0.58017606)}, {'document_index': 114, 'document_token': '##n', 'query_token': 'green', 'similarity': np.float32(0.46025065)}, {'document_index': 114, 'document_token': 'bag', 'query_token': 'bag', 'similarity': np.float32(0.5213716)}, {'document_index': 115, 'document_token': 'office', 'query_token': 'green', 'similarity': np.float32(0.50415355)}, {'document_index': 115, 'document_token': 'black', 'query_token': 'bag', 'similarity': np.float32(0.5690433)}, {'document_index': 116, 'document_token': 'blue', 'query_token': 'green', 'similarity': np.float32(0.488557)}, {'document_index': 116, 'document_token': 'bag', 'query_token': 'bag', 'similarity': np.float32(0.58159554)}, {'document_index': 117, 'document_token': 'blue', 'query_token': 'green', 'similarity': np.float32(0.4853901)}, {'document_index': 117, 'document_token': 'set', 'query_token': 'bag', 'similarity': np.float32(0.5683112)}, {'document_index': 118, 'document_token': 'black', 'query_token': 'green', 'similarity': np.float32(0.48007685)}, {'document_index': 118, 'document_token': 'pc', 'query_token': 'bag', 'similarity': np.float32(0.61292726)}, {'document_index': 119, 'document_token': 'backpack', 'query_token': 'green', 'similarity': np.float32(0.4569052)}, {'document_index': 119, 'document_token': 'black', 'query_token': 'bag', 'similarity': np.float32(0.59766406)}, {'document_index': 120, 'document_token': 'backpack', 'query_token': 'green', 'similarity': np.float32(0.50021136)}, {'document_index': 120, 'document_token': 'girl', 'query_token': 'bag', 'similarity': np.float32(0.5977395)}, {'document_index': 121, 'document_token': 'hot', 'query_token': 'green', 'similarity': np.float32(0.48288655)}, {'document_index': 121, 'document_token': 'closure', 'query_token': 'bag', 'similarity': np.float32(0.6182457)}, {'document_index': 122, 'document_token': 'large', 'query_token': 'green', 'similarity': np.float32(0.42948622)}, {'document_index': 122, 'document_token': 'black', 'query_token': 'bag', 'similarity': np.float32(0.6579251)}, {'document_index': 123, 'document_token': 'large', 'query_token': 'green', 'similarity': np.float32(0.47193992)}, {'document_index': 123, 'document_token': 'compartment', 'query_token': 'bag', 'similarity': np.float32(0.5360695)}, {'document_index': 124, 'document_token': 'office', 'query_token': 'green', 'similarity': np.float32(0.49195927)}, {'document_index': 124, 'document_token': 'cm', 'query_token': 'bag', 'similarity': np.float32(0.5909683)}, {'document_index': 125, 'document_token': 'day', 'query_token': 'green', 'similarity': np.float32(0.48435146)}, {'document_index': 125, 'document_token': 'bag', 'query_token': 'bag', 'similarity': np.float32(0.59361506)}, {'document_index': 126, 'document_token': 'blue', 'query_token': 'green', 'similarity': np.float32(0.53625035)}, {'document_index': 126, 'document_token': 'bag', 'query_token': 'bag', 'similarity': np.float32(0.58266896)}, {'document_index': 127, 'document_token': 'royal', 'query_token': 'green', 'similarity': np.float32(0.4389488)}, {'document_index': 127, 'document_token': 'blue', 'query_token': 'bag', 'similarity': np.float32(0.6503607)}, {'document_index': 128, 'document_token': 'black', 'query_token': 'green', 'similarity': np.float32(0.48335782)}, {'document_index': 128, 'document_token': 'plastic', 'query_token': 'bag', 'similarity': np.float32(0.57606924)}, {'document_index': 129, 'document_token': 'year', 'query_token': 'green', 'similarity': np.float32(0.41463292)}, {'document_index': 129, 'document_token': 'bag', 'query_token': 'bag', 'similarity': np.float32(0.5852714)}, {'document_index': 130, 'document_token': 'sling', 'query_token': 'green', 'similarity': np.float32(0.44372272)}, {'document_index': 130, 'document_token': 'bag', 'query_token': 'bag', 'similarity': np.float32(0.6394036)}, {'document_index': 131, 'document_token': 'trolley', 'query_token': 'green', 'similarity': np.float32(0.46572933)}, {'document_index': 131, 'document_token': 'blue', 'query_token': 'bag', 'similarity': np.float32(0.618366)}, {'document_index': 132, 'document_token': 'string', 'query_token': 'green', 'similarity': np.float32(0.49280164)}, {'document_index': 132, 'document_token': 'backpack', 'query_token': 'bag', 'similarity': np.float32(0.7248525)}, {'document_index': 133, 'document_token': 'gift', 'query_token': 'green', 'similarity': np.float32(0.51197153)}, {'document_index': 133, 'document_token': 'bag', 'query_token': 'bag', 'similarity': np.float32(0.7480464)}, {'document_index': 134, 'document_token': 'red', 'query_token': 'green', 'similarity': np.float32(0.50479996)}, {'document_index': 134, 'document_token': 'small', 'query_token': 'bag', 'similarity': np.float32(0.634013)}, {'document_index': 135, 'document_token': 'lavender', 'query_token': 'green', 'similarity': np.float32(0.45976388)}, {'document_index': 135, 'document_token': 'color', 'query_token': 'bag', 'similarity': np.float32(0.5924153)}, {'document_index': 136, 'document_token': 'lady', 'query_token': 'green', 'similarity': np.float32(0.4334614)}, {'document_index': 136, 'document_token': 'bag', 'query_token': 'bag', 'similarity': np.float32(0.61287946)}, {'document_index': 137, 'document_token': 'blue', 'query_token': 'green', 'similarity': np.float32(0.57959044)}, {'document_index': 137, 'document_token': 'pack', 'query_token': 'bag', 'similarity': np.float32(0.6946979)}, {'document_index': 138, 'document_token': 'black', 'query_token': 'green', 'similarity': np.float32(0.48141092)}, {'document_index': 138, 'document_token': 'pack', 'query_token': 'bag', 'similarity': np.float32(0.6539595)}, {'document_index': 139, 'document_token': 'brown', 'query_token': 'green', 'similarity': np.float32(0.46240222)}, {'document_index': 139, 'document_token': 'woman', 'query_token': 'bag', 'similarity': np.float32(0.61904687)}, {'document_index': 140, 'document_token': 'lunch', 'query_token': 'green', 'similarity': np.float32(0.49955648)}, {'document_index': 140, 'document_token': 'bag', 'query_token': 'bag', 'similarity': np.float32(0.5917919)}, {'document_index': 141, 'document_token': 'lavender', 'query_token': 'green', 'similarity': np.float32(0.4528835)}, {'document_index': 141, 'document_token': 'color', 'query_token': 'bag', 'similarity': np.float32(0.5890032)}, {'document_index': 142, 'document_token': 'green', 'query_token': 'green', 'similarity': np.float32(0.68518096)}, {'document_index': 142, 'document_token': 'color', 'query_token': 'bag', 'similarity': np.float32(0.59960973)}, {'document_index': 143, 'document_token': 'plastic', 'query_token': 'green', 'similarity': np.float32(0.5174133)}, {'document_index': 143, 'document_token': 'color', 'query_token': 'bag', 'similarity': np.float32(0.6034914)}, {'document_index': 144, 'document_token': 'blue', 'query_token': 'green', 'similarity': np.float32(0.5964762)}, {'document_index': 144, 'document_token': 'bag', 'query_token': 'bag', 'similarity': np.float32(0.5906499)}, {'document_index': 145, 'document_token': 'nylon', 'query_token': 'green', 'similarity': np.float32(0.48281717)}, {'document_index': 145, 'document_token': 'bag', 'query_token': 'bag', 'similarity': np.float32(0.5819751)}, {'document_index': 146, 'document_token': 'shoulder', 'query_token': 'green', 'similarity': np.float32(0.4859151)}, {'document_index': 146, 'document_token': 'bag', 'query_token': 'bag', 'similarity': np.float32(0.5905844)}, {'document_index': 147, 'document_token': 'office', 'query_token': 'green', 'similarity': np.float32(0.49195927)}, {'document_index': 147, 'document_token': 'cm', 'query_token': 'bag', 'similarity': np.float32(0.5909683)}, {'document_index': 148, 'document_token': 'office', 'query_token': 'green', 'similarity': np.float32(0.50415355)}, {'document_index': 148, 'document_token': 'black', 'query_token': 'bag', 'similarity': np.float32(0.5690433)}, {'document_index': 149, 'document_token': 'red', 'query_token': 'green', 'similarity': np.float32(0.43864065)}, {'document_index': 149, 'document_token': 'bag', 'query_token': 'bag', 'similarity': np.float32(0.58867997)}, {'document_index': 150, 'document_token': 'green', 'query_token': 'green', 'similarity': np.float32(0.66641587)}, {'document_index': 150, 'document_token': 'color', 'query_token': 'bag', 'similarity': np.float32(0.64416796)}, {'document_index': 151, 'document_token': 'college', 'query_token': 'green', 'similarity': np.float32(0.44331124)}, {'document_index': 151, 'document_token': 'girl', 'query_token': 'bag', 'similarity': np.float32(0.58466965)}, {'document_index': 152, 'document_token': 'rain', 'query_token': 'green', 'similarity': np.float32(0.41966563)}, {'document_index': 152, 'document_token': 'bag', 'query_token': 'bag', 'similarity': np.float32(0.55636215)}, {'document_index': 153, 'document_token': 'inch', 'query_token': 'green', 'similarity': np.float32(0.48999992)}, {'document_index': 153, 'document_token': 'cover', 'query_token': 'bag', 'similarity': np.float32(0.63239855)}, {'document_index': 154, 'document_token': 'lemon', 'query_token': 'green', 'similarity': np.float32(0.44922987)}, {'document_index': 154, 'document_token': 'medium', 'query_token': 'bag', 'similarity': np.float32(0.632303)}, {'document_index': 155, 'document_token': 'flat', 'query_token': 'green', 'similarity': np.float32(0.50389963)}, {'document_index': 155, 'document_token': 'bag', 'query_token': 'bag', 'similarity': np.float32(0.6091927)}, {'document_index': 156, 'document_token': 'shoulder', 'query_token': 'green', 'similarity': np.float32(0.40268785)}, {'document_index': 156, 'document_token': 'bag', 'query_token': 'bag', 'similarity': np.float32(0.60870194)}, {'document_index': 157, 'document_token': 'office', 'query_token': 'green', 'similarity': np.float32(0.4720135)}, {'document_index': 157, 'document_token': 'blue', 'query_token': 'bag', 'similarity': np.float32(0.6344274)}, {'document_index': 158, 'document_token': 'green', 'query_token': 'green', 'similarity': np.float32(0.54856724)}, {'document_index': 158, 'document_token': 'green', 'query_token': 'bag', 'similarity': np.float32(0.6145039)}, {'document_index': 159, 'document_token': 'black', 'query_token': 'green', 'similarity': np.float32(0.4726934)}, {'document_index': 159, 'document_token': 'bag', 'query_token': 'bag', 'similarity': np.float32(0.6067333)}, {'document_index': 160, 'document_token': 'bag', 'query_token': 'green', 'similarity': np.float32(0.44237554)}, {'document_index': 160, 'document_token': 'pouch', 'query_token': 'bag', 'similarity': np.float32(0.5669832)}, {'document_index': 161, 'document_token': 'hiking', 'query_token': 'green', 'similarity': np.float32(0.48288774)}, {'document_index': 161, 'document_token': 'woman', 'query_token': 'bag', 'similarity': np.float32(0.61734366)}, {'document_index': 162, 'document_token': '##e', 'query_token': 'green', 'similarity': np.float32(0.41069317)}, {'document_index': 162, 'document_token': 'pack', 'query_token': 'bag', 'similarity': np.float32(0.62353325)}, {'document_index': 163, 'document_token': 'purse', 'query_token': 'green', 'similarity': np.float32(0.41769618)}, {'document_index': 163, 'document_token': 'bag', 'query_token': 'bag', 'similarity': np.float32(0.62177193)}, {'document_index': 164, 'document_token': 'green', 'query_token': 'green', 'similarity': np.float32(0.6788856)}, {'document_index': 164, 'document_token': 'roll', 'query_token': 'bag', 'similarity': np.float32(0.651591)}, {'document_index': 165, 'document_token': 'poly', 'query_token': 'green', 'similarity': np.float32(0.47277167)}, {'document_index': 165, 'document_token': 'black', 'query_token': 'bag', 'similarity': np.float32(0.6189952)}, {'document_index': 166, 'document_token': 'office', 'query_token': 'green', 'similarity': np.float32(0.4720135)}, {'document_index': 166, 'document_token': 'blue', 'query_token': 'bag', 'similarity': np.float32(0.6344274)}, {'document_index': 167, 'document_token': 'backpack', 'query_token': 'green', 'similarity': np.float32(0.49473256)}, {'document_index': 167, 'document_token': 'girl', 'query_token': 'bag', 'similarity': np.float32(0.59296274)}, {'document_index': 168, 'document_token': 'backpack', 'query_token': 'green', 'similarity': np.float32(0.492128)}, {'document_index': 168, 'document_token': 'cover', 'query_token': 'bag', 'similarity': np.float32(0.617042)}, {'document_index': 169, 'document_token': 'bag', 'query_token': 'green', 'similarity': np.float32(0.42649996)}, {'document_index': 169, 'document_token': 'bag', 'query_token': 'bag', 'similarity': np.float32(0.58288217)}, {'document_index': 170, 'document_token': 'blue', 'query_token': 'green', 'similarity': np.float32(0.4988466)}, {'document_index': 170, 'document_token': 'bag', 'query_token': 'bag', 'similarity': np.float32(0.6374816)}, {'document_index': 171, 'document_token': 'red', 'query_token': 'green', 'similarity': np.float32(0.5485824)}, {'document_index': 171, 'document_token': '##le', 'query_token': 'bag', 'similarity': np.float32(0.48355308)}, {'document_index': 172, 'document_token': 'string', 'query_token': 'green', 'similarity': np.float32(0.491575)}, {'document_index': 172, 'document_token': 'bag', 'query_token': 'bag', 'similarity': np.float32(0.5876598)}, {'document_index': 173, 'document_token': 'poly', 'query_token': 'green', 'similarity': np.float32(0.4891341)}, {'document_index': 173, 'document_token': 'bag', 'query_token': 'bag', 'similarity': np.float32(0.6000599)}, {'document_index': 174, 'document_token': 'yellow', 'query_token': 'green', 'similarity': np.float32(0.51689947)}, {'document_index': 174, 'document_token': 'bag', 'query_token': 'bag', 'similarity': np.float32(0.60795116)}, {'document_index': 175, 'document_token': 'black', 'query_token': 'green', 'similarity': np.float32(0.41011363)}, {'document_index': 175, 'document_token': 'black', 'query_token': 'bag', 'similarity': np.float32(0.54129356)}, {'document_index': 176, 'document_token': 'backpack', 'query_token': 'green', 'similarity': np.float32(0.4731915)}, {'document_index': 176, 'document_token': 'girl', 'query_token': 'bag', 'similarity': np.float32(0.55549794)}, {'document_index': 177, 'document_token': 'blue', 'query_token': 'green', 'similarity': np.float32(0.4988466)}, {'document_index': 177, 'document_token': 'bag', 'query_token': 'bag', 'similarity': np.float32(0.6374816)}, {'document_index': 178, 'document_token': '##n', 'query_token': 'green', 'similarity': np.float32(0.46116313)}, {'document_index': 178, 'document_token': 'girl', 'query_token': 'bag', 'similarity': np.float32(0.58340687)}, {'document_index': 179, 'document_token': 'red', 'query_token': 'green', 'similarity': np.float32(0.5485824)}, {'document_index': 179, 'document_token': '##le', 'query_token': 'bag', 'similarity': np.float32(0.48355308)}, {'document_index': 180, 'document_token': 'blue', 'query_token': 'green', 'similarity': np.float32(0.522624)}, {'document_index': 180, 'document_token': 'bag', 'query_token': 'bag', 'similarity': np.float32(0.5844329)}, {'document_index': 181, 'document_token': 'poly', 'query_token': 'green', 'similarity': np.float32(0.4891341)}, {'document_index': 181, 'document_token': 'bag', 'query_token': 'bag', 'similarity': np.float32(0.6000599)}, {'document_index': 182, 'document_token': 'yellow', 'query_token': 'green', 'similarity': np.float32(0.51689947)}, {'document_index': 182, 'document_token': 'bag', 'query_token': 'bag', 'similarity': np.float32(0.60795116)}, {'document_index': 183, 'document_token': 'school', 'query_token': 'green', 'similarity': np.float32(0.49446183)}, {'document_index': 183, 'document_token': 'bag', 'query_token': 'bag', 'similarity': np.float32(0.77433634)}, {'document_index': 184, 'document_token': 'backpack', 'query_token': 'green', 'similarity': np.float32(0.4856223)}, {'document_index': 184, 'document_token': 'bag', 'query_token': 'bag', 'similarity': np.float32(0.62777585)}, {'document_index': 185, 'document_token': 'standard', 'query_token': 'green', 'similarity': np.float32(0.45230237)}, {'document_index': 185, 'document_token': 'blue', 'query_token': 'bag', 'similarity': np.float32(0.56972045)}, {'document_index': 186, 'document_token': 'black', 'query_token': 'green', 'similarity': np.float32(0.48593277)}, {'document_index': 186, 'document_token': 'medium', 'query_token': 'bag', 'similarity': np.float32(0.61243385)}, {'document_index': 187, 'document_token': '##n', 'query_token': 'green', 'similarity': np.float32(0.46116313)}, {'document_index': 187, 'document_token': 'girl', 'query_token': 'bag', 'similarity': np.float32(0.58340687)}, {'document_index': 188, 'document_token': 'large', 'query_token': 'green', 'similarity': np.float32(0.47193992)}, {'document_index': 188, 'document_token': 'compartment', 'query_token': 'bag', 'similarity': np.float32(0.5360695)}, {'document_index': 189, 'document_token': 'office', 'query_token': 'green', 'similarity': np.float32(0.50265986)}, {'document_index': 189, 'document_token': 'cover', 'query_token': 'bag', 'similarity': np.float32(0.6490671)}, {'document_index': 190, 'document_token': 'bag', 'query_token': 'green', 'similarity': np.float32(0.48140258)}, {'document_index': 190, 'document_token': 'bag', 'query_token': 'bag', 'similarity': np.float32(0.60403275)}, {'document_index': 191, 'document_token': 'genie', 'query_token': 'green', 'similarity': np.float32(0.47669637)}, {'document_index': 191, 'document_token': 'resistant', 'query_token': 'bag', 'similarity': np.float32(0.46572214)}, {'document_index': 192, 'document_token': 'large', 'query_token': 'green', 'similarity': np.float32(0.47193992)}, {'document_index': 192, 'document_token': 'compartment', 'query_token': 'bag', 'similarity': np.float32(0.5360695)}, {'document_index': 193, 'document_token': 'office', 'query_token': 'green', 'similarity': np.float32(0.50265986)}, {'document_index': 193, 'document_token': 'cover', 'query_token': 'bag', 'similarity': np.float32(0.6490671)}, {'document_index': 194, 'document_token': 'safari', 'query_token': 'green', 'similarity': np.float32(0.48388395)}, {'document_index': 194, 'document_token': 'bag', 'query_token': 'bag', 'similarity': np.float32(0.6084171)}, {'document_index': 195, 'document_token': 'genie', 'query_token': 'green', 'similarity': np.float32(0.47669637)}, {'document_index': 195, 'document_token': 'resistant', 'query_token': 'bag', 'similarity': np.float32(0.46572214)}, {'document_index': 196, 'document_token': 'paper', 'query_token': 'green', 'similarity': np.float32(0.54122293)}, {'document_index': 196, 'document_token': 'multi', 'query_token': 'bag', 'similarity': np.float32(0.5802282)}, {'document_index': 197, 'document_token': 'brown', 'query_token': 'green', 'similarity': np.float32(0.48348457)}, {'document_index': 197, 'document_token': 'brown', 'query_token': 'bag', 'similarity': np.float32(0.6227239)}, {'document_index': 198, 'document_token': 'backpack', 'query_token': 'green', 'similarity': np.float32(0.44043228)}, {'document_index': 198, 'document_token': 'woman', 'query_token': 'bag', 'similarity': np.float32(0.57251835)}, {'document_index': 199, 'document_token': 'blue', 'query_token': 'green', 'similarity': np.float32(0.488557)}, {'document_index': 199, 'document_token': 'bag', 'query_token': 'bag', 'similarity': np.float32(0.58159554)}, {'document_index': 200, 'document_token': '##go', 'query_token': 'green', 'similarity': np.float32(0.43889895)}, {'document_index': 200, 'document_token': 'bag', 'query_token': 'bag', 'similarity': np.float32(0.6148311)}, {'document_index': 201, 'document_token': 'pack', 'query_token': 'green', 'similarity': np.float32(0.4943008)}, {'document_index': 201, 'document_token': 'inch', 'query_token': 'bag', 'similarity': np.float32(0.6668166)}, {'document_index': 202, 'document_token': 'sky', 'query_token': 'green', 'similarity': np.float32(0.5221576)}, {'document_index': 202, 'document_token': 'black', 'query_token': 'bag', 'similarity': np.float32(0.6575969)}, {'document_index': 203, 'document_token': 'grey', 'query_token': 'green', 'similarity': np.float32(0.5209354)}, {'document_index': 203, 'document_token': 'cm', 'query_token': 'bag', 'similarity': np.float32(0.6316645)}, {'document_index': 204, 'document_token': 'school', 'query_token': 'green', 'similarity': np.float32(0.5037476)}, {'document_index': 204, 'document_token': 'bag', 'query_token': 'bag', 'similarity': np.float32(0.63979006)}, {'document_index': 205, 'document_token': 'black', 'query_token': 'green', 'similarity': np.float32(0.44639197)}, {'document_index': 205, 'document_token': 'grey', 'query_token': 'bag', 'similarity': np.float32(0.5518403)}, {'document_index': 206, 'document_token': 'college', 'query_token': 'green', 'similarity': np.float32(0.46612215)}, {'document_index': 206, 'document_token': 'bag', 'query_token': 'bag', 'similarity': np.float32(0.63243365)}, {'document_index': 207, 'document_token': 'laptop', 'query_token': 'green', 'similarity': np.float32(0.4413457)}, {'document_index': 207, 'document_token': 'bag', 'query_token': 'bag', 'similarity': np.float32(0.5953273)}, {'document_index': 208, 'document_token': 'office', 'query_token': 'green', 'similarity': np.float32(0.46829003)}, {'document_index': 208, 'document_token': 'bag', 'query_token': 'bag', 'similarity': np.float32(0.56251264)}, {'document_index': 209, 'document_token': 'co', 'query_token': 'green', 'similarity': np.float32(0.4501893)}, {'document_index': 209, 'document_token': 'bag', 'query_token': 'bag', 'similarity': np.float32(0.59995)}]\n"
     ]
    },
    {
     "data": {
      "text/plain": [
       "[{'document_index': 68, 'avg_similarity': np.float32(0.6935778)},\n",
       " {'document_index': 19, 'avg_similarity': np.float32(0.67617536)},\n",
       " {'document_index': 164, 'avg_similarity': np.float32(0.66523826)},\n",
       " {'document_index': 150, 'avg_similarity': np.float32(0.6552919)},\n",
       " {'document_index': 60, 'avg_similarity': np.float32(0.65361214)}]"
      ]
     },
     "execution_count": 41,
     "metadata": {},
     "output_type": "execute_result"
    }
   ],
   "source": [
    "import spacy\n",
    "\n",
    "# Load the spacy model\n",
    "nlp = spacy.load(\"en_core_web_sm\")\n",
    "\n",
    "def preprocess_query(text):\n",
    "    doc = nlp(text)\n",
    "    # Remove stop words and lemmatize the remaining words\n",
    "    filtered_tokens = [token.lemma_ for token in doc if not token.is_stop and not token.is_punct]\n",
    "\n",
    "    # Remove duplicate words while preserving order\n",
    "    filtered_tokens = list(dict.fromkeys(filtered_tokens))\n",
    "    \n",
    "    return ' '.join(filtered_tokens)\n",
    "\n",
    "query = \"green bag\"\n",
    "preprocessed_query = preprocess_query(query)\n",
    "\n",
    "# Call the modified function\n",
    "output = word_level_search(preprocessed_query, df['tokens'], df['embeddings'], tokenizer, model)\n",
    "output"
   ]
  },
  {
   "cell_type": "code",
   "execution_count": 42,
   "metadata": {},
   "outputs": [
    {
     "name": "stdout",
     "output_type": "stream",
     "text": [
      "Document Index: 68, Average Similarity: 0.6935778260231018\n",
      "Storite Nylon 50 cms Imported Travel Duffle Bag Multi- Pocket Sports Shoulder Bag for Women with Wet Pocket & Shoe Compartment Weekender Overnight Travel Luggage Bag (Green - 50 x 18 x 29 cm)\n",
      "Document Index: 19, Average Similarity: 0.6761753559112549\n",
      "Aristocrat Nova Laptop Backpack - Black/School bag\n",
      "Document Index: 164, Average Similarity: 0.6652382612228394\n",
      "Zureni Garbage Dustbin Bags (Large, 60 x 81 cm or 24\" x 32\") Drawstring Anti-drip Trash Waste Basket Bag for Kitchen Office Warehouse Pantry (Black, Green, Blue, 3 x 15 Pcs/Roll)\n",
      "Document Index: 150, Average Similarity: 0.6552919149398804\n",
      "Shalimar Compostable Garbage Bag Size 19 x 21 Inches (Medium) 45 Piece (3 Rolls) Dustbin Bag/Trash Bag - Green Color\n",
      "Document Index: 60, Average Similarity: 0.6536121368408203\n",
      "FEDRA Epoch Nylon 55 litres Waterproof Duffle Bag Strolley Duffle Bag- 2 Wheels - Luggage Bag - (Green White)\n"
     ]
    }
   ],
   "source": [
    "# Iterate over the sorted top documents returned by process_and_sort_results\n",
    "for result in output:\n",
    "    doc_index = result['document_index']  # Get the document index from the result\n",
    "    avg_similarity = result['avg_similarity']  # Get the average similarity score (optional, for display)\n",
    "    \n",
    "    # Extract the entire row using the document index\n",
    "    document_info = df.iloc[doc_index, 1]  # This will retrieve the specific column data of row from the DataFrame\n",
    "    \n",
    "    # Print the document information (you can customize how it's displayed)\n",
    "    print(f\"Document Index: {doc_index}, Average Similarity: {avg_similarity}\")\n",
    "    print(document_info)  # This will display all columns of the row\n"
   ]
  },
  {
   "cell_type": "code",
   "execution_count": null,
   "metadata": {},
   "outputs": [],
   "source": []
  }
 ],
 "metadata": {
  "kernelspec": {
   "display_name": "scementic_search",
   "language": "python",
   "name": "python3"
  },
  "language_info": {
   "codemirror_mode": {
    "name": "ipython",
    "version": 3
   },
   "file_extension": ".py",
   "mimetype": "text/x-python",
   "name": "python",
   "nbconvert_exporter": "python",
   "pygments_lexer": "ipython3",
   "version": "3.12.6"
  }
 },
 "nbformat": 4,
 "nbformat_minor": 2
}
