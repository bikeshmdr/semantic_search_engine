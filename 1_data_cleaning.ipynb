{
 "cells": [
  {
   "cell_type": "code",
   "execution_count": 22,
   "metadata": {},
   "outputs": [],
   "source": [
    "import pandas as pd\n",
    "import re"
   ]
  },
  {
   "cell_type": "code",
   "execution_count": 23,
   "metadata": {},
   "outputs": [
    {
     "name": "stderr",
     "output_type": "stream",
     "text": [
      "<>:3: SyntaxWarning: invalid escape sequence '\\S'\n",
      "<>:3: SyntaxWarning: invalid escape sequence '\\S'\n",
      "C:\\Users\\Bipin Manandhar\\AppData\\Local\\Temp\\ipykernel_11388\\1447818741.py:3: SyntaxWarning: invalid escape sequence '\\S'\n",
      "  df = pd.read_csv(\"dataset\\Scraped_Data.csv\")\n"
     ]
    }
   ],
   "source": [
    "# Reading dataset\n",
    "\n",
    "df = pd.read_csv(\"dataset\\Scraped_Data.csv\")"
   ]
  },
  {
   "cell_type": "code",
   "execution_count": 24,
   "metadata": {},
   "outputs": [
    {
     "name": "stdout",
     "output_type": "stream",
     "text": [
      "<class 'pandas.core.frame.DataFrame'>\n",
      "RangeIndex: 210 entries, 0 to 209\n",
      "Data columns (total 7 columns):\n",
      " #   Column             Non-Null Count  Dtype \n",
      "---  ------             --------------  ----- \n",
      " 0   Product URL        210 non-null    object\n",
      " 1   Product Name       210 non-null    object\n",
      " 2   Product Price      209 non-null    object\n",
      " 3   Rating             208 non-null    object\n",
      " 4   Number of reviews  208 non-null    object\n",
      " 5   Manufacturer       154 non-null    object\n",
      " 6   ASIN               156 non-null    object\n",
      "dtypes: object(7)\n",
      "memory usage: 11.6+ KB\n"
     ]
    }
   ],
   "source": [
    "df.info()"
   ]
  },
  {
   "cell_type": "code",
   "execution_count": 25,
   "metadata": {},
   "outputs": [
    {
     "data": {
      "text/html": [
       "<div>\n",
       "<style scoped>\n",
       "    .dataframe tbody tr th:only-of-type {\n",
       "        vertical-align: middle;\n",
       "    }\n",
       "\n",
       "    .dataframe tbody tr th {\n",
       "        vertical-align: top;\n",
       "    }\n",
       "\n",
       "    .dataframe thead th {\n",
       "        text-align: right;\n",
       "    }\n",
       "</style>\n",
       "<table border=\"1\" class=\"dataframe\">\n",
       "  <thead>\n",
       "    <tr style=\"text-align: right;\">\n",
       "      <th></th>\n",
       "      <th>Product URL</th>\n",
       "      <th>Product Name</th>\n",
       "      <th>Product Price</th>\n",
       "      <th>Rating</th>\n",
       "      <th>Number of reviews</th>\n",
       "      <th>Manufacturer</th>\n",
       "      <th>ASIN</th>\n",
       "    </tr>\n",
       "  </thead>\n",
       "  <tbody>\n",
       "    <tr>\n",
       "      <th>0</th>\n",
       "      <td>https://www.amazon.in/Skybags-Brat-Black-Casua...</td>\n",
       "      <td>Skybags Casual Backpack 28L, 2 Main Compartmen...</td>\n",
       "      <td>₹446</td>\n",
       "      <td>4.1 out of 5 stars</td>\n",
       "      <td>13,311</td>\n",
       "      <td>VIP Industries Ltd</td>\n",
       "      <td>B08Z1HHHTD</td>\n",
       "    </tr>\n",
       "    <tr>\n",
       "      <th>1</th>\n",
       "      <td>https://www.amazon.in/Number-Backpack-Compartm...</td>\n",
       "      <td>FUR JADEN Anti Theft Number Lock Backpack Bag ...</td>\n",
       "      <td>₹699</td>\n",
       "      <td>4.4 out of 5 stars</td>\n",
       "      <td>15,425</td>\n",
       "      <td>FUR JADEN, Fur Jaden, 3C Jai Hind Bld, Dr AM R...</td>\n",
       "      <td>B09VTDMRY7</td>\n",
       "    </tr>\n",
       "    <tr>\n",
       "      <th>2</th>\n",
       "      <td>https://www.amazon.in/Wesley-Raincover-Interna...</td>\n",
       "      <td>Wesley Spartan Unisex Travel Hiking Laptop Bag...</td>\n",
       "      <td>₹549</td>\n",
       "      <td>4.1 out of 5 stars</td>\n",
       "      <td>2,799</td>\n",
       "      <td>Wesley, Longani Trading Company</td>\n",
       "      <td>B0D37BRN7X</td>\n",
       "    </tr>\n",
       "    <tr>\n",
       "      <th>3</th>\n",
       "      <td>https://www.amazon.in/Gear-Black-Laptop-Backpa...</td>\n",
       "      <td>Gear Aspire 30L Medium Water Restant Office La...</td>\n",
       "      <td>₹898</td>\n",
       "      <td>4.3 out of 5 stars</td>\n",
       "      <td>8,587</td>\n",
       "      <td>Gear Merchandise PVT LTD, Gear Merchandise PVT...</td>\n",
       "      <td>B075MK4TXP</td>\n",
       "    </tr>\n",
       "    <tr>\n",
       "      <th>4</th>\n",
       "      <td>https://www.amazon.in/Safari-Laptop-Backpack-R...</td>\n",
       "      <td>Safari Casual backpack 3 compartments, front p...</td>\n",
       "      <td>₹729</td>\n",
       "      <td>4.0 out of 5 stars</td>\n",
       "      <td>3,041</td>\n",
       "      <td>Safari, Safari Industries Ltd 301/302, A-Wing,...</td>\n",
       "      <td>B097JJ2CK6</td>\n",
       "    </tr>\n",
       "  </tbody>\n",
       "</table>\n",
       "</div>"
      ],
      "text/plain": [
       "                                         Product URL  \\\n",
       "0  https://www.amazon.in/Skybags-Brat-Black-Casua...   \n",
       "1  https://www.amazon.in/Number-Backpack-Compartm...   \n",
       "2  https://www.amazon.in/Wesley-Raincover-Interna...   \n",
       "3  https://www.amazon.in/Gear-Black-Laptop-Backpa...   \n",
       "4  https://www.amazon.in/Safari-Laptop-Backpack-R...   \n",
       "\n",
       "                                        Product Name Product Price  \\\n",
       "0  Skybags Casual Backpack 28L, 2 Main Compartmen...          ₹446   \n",
       "1  FUR JADEN Anti Theft Number Lock Backpack Bag ...          ₹699   \n",
       "2  Wesley Spartan Unisex Travel Hiking Laptop Bag...          ₹549   \n",
       "3  Gear Aspire 30L Medium Water Restant Office La...          ₹898   \n",
       "4  Safari Casual backpack 3 compartments, front p...          ₹729   \n",
       "\n",
       "               Rating Number of reviews  \\\n",
       "0  4.1 out of 5 stars            13,311   \n",
       "1  4.4 out of 5 stars            15,425   \n",
       "2  4.1 out of 5 stars             2,799   \n",
       "3  4.3 out of 5 stars             8,587   \n",
       "4  4.0 out of 5 stars             3,041   \n",
       "\n",
       "                                        Manufacturer        ASIN  \n",
       "0                                 VIP Industries Ltd  B08Z1HHHTD  \n",
       "1  FUR JADEN, Fur Jaden, 3C Jai Hind Bld, Dr AM R...  B09VTDMRY7  \n",
       "2                    Wesley, Longani Trading Company  B0D37BRN7X  \n",
       "3  Gear Merchandise PVT LTD, Gear Merchandise PVT...  B075MK4TXP  \n",
       "4  Safari, Safari Industries Ltd 301/302, A-Wing,...  B097JJ2CK6  "
      ]
     },
     "execution_count": 25,
     "metadata": {},
     "output_type": "execute_result"
    }
   ],
   "source": [
    "df.head()"
   ]
  },
  {
   "cell_type": "code",
   "execution_count": 26,
   "metadata": {},
   "outputs": [
    {
     "data": {
      "text/plain": [
       "Index(['Product URL', 'Product Name', 'Product Price', 'Rating',\n",
       "       'Number of reviews', 'Manufacturer', 'ASIN'],\n",
       "      dtype='object')"
      ]
     },
     "execution_count": 26,
     "metadata": {},
     "output_type": "execute_result"
    }
   ],
   "source": [
    "df.columns"
   ]
  },
  {
   "cell_type": "code",
   "execution_count": 27,
   "metadata": {},
   "outputs": [
    {
     "data": {
      "text/plain": [
       "Product URL           0\n",
       "Product Name          0\n",
       "Product Price         1\n",
       "Rating                2\n",
       "Number of reviews     2\n",
       "Manufacturer         56\n",
       "ASIN                 54\n",
       "dtype: int64"
      ]
     },
     "execution_count": 27,
     "metadata": {},
     "output_type": "execute_result"
    }
   ],
   "source": [
    "df.isnull().sum()"
   ]
  },
  {
   "cell_type": "markdown",
   "metadata": {},
   "source": [
    "# Data Cleaning"
   ]
  },
  {
   "cell_type": "code",
   "execution_count": 28,
   "metadata": {},
   "outputs": [],
   "source": [
    "df_copy = df.copy()"
   ]
  },
  {
   "cell_type": "code",
   "execution_count": 29,
   "metadata": {},
   "outputs": [],
   "source": [
    "df_copy = df_copy.dropna(subset = ['Product Name'])"
   ]
  },
  {
   "cell_type": "code",
   "execution_count": 30,
   "metadata": {},
   "outputs": [],
   "source": [
    "df_copy = df_copy.drop_duplicates(subset=['Product Name'])"
   ]
  },
  {
   "cell_type": "code",
   "execution_count": 31,
   "metadata": {},
   "outputs": [],
   "source": [
    "# # Display rows with any NaN values\n",
    "# rows_with_nan = df_copy[df_copy.isna().any(axis=1)]\n",
    "\n",
    "# print(len(rows_with_nan))\n",
    "# # Display the result\n",
    "# rows_with_nan[0:5]\n"
   ]
  },
  {
   "cell_type": "code",
   "execution_count": 32,
   "metadata": {},
   "outputs": [],
   "source": [
    "# # Replacing empty cells with None string\n",
    "# df_copy.fillna(\"None\", inplace = True)"
   ]
  },
  {
   "cell_type": "code",
   "execution_count": 33,
   "metadata": {},
   "outputs": [],
   "source": [
    "# df_copy.info()"
   ]
  },
  {
   "cell_type": "markdown",
   "metadata": {},
   "source": [
    "# Normalize text by converting to lowercase."
   ]
  },
  {
   "cell_type": "code",
   "execution_count": 34,
   "metadata": {},
   "outputs": [],
   "source": [
    "# Convert all characters in the 'Name' column to lowercase\n",
    "df_copy['product_name'] = df_copy['Product Name'].str.lower()"
   ]
  },
  {
   "cell_type": "code",
   "execution_count": 35,
   "metadata": {},
   "outputs": [
    {
     "data": {
      "text/plain": [
       "0      skybags casual backpack 28l, 2 main compartmen...\n",
       "1      fur jaden anti theft number lock backpack bag ...\n",
       "2      wesley spartan unisex travel hiking laptop bag...\n",
       "3      gear aspire 30l medium water restant office la...\n",
       "4      safari casual backpack 3 compartments, front p...\n",
       "                             ...                        \n",
       "205             skybags evo laptop backpack black & grey\n",
       "206    beauty girls by hotshot 1577 |school bag|tuiti...\n",
       "207    gustave® 15.6 inch laptop bag for men with usb...\n",
       "208    impulse imp omega 45l laptop backpack/office b...\n",
       "209    hundred cosmogear badminton kit-bag (navy)|dou...\n",
       "Name: product_name, Length: 175, dtype: object"
      ]
     },
     "execution_count": 35,
     "metadata": {},
     "output_type": "execute_result"
    }
   ],
   "source": [
    "df_copy['product_name']"
   ]
  },
  {
   "cell_type": "markdown",
   "metadata": {},
   "source": [
    "# Remove special characters, punctuation, and redundant whitespace."
   ]
  },
  {
   "cell_type": "code",
   "execution_count": 36,
   "metadata": {},
   "outputs": [],
   "source": [
    "# Function to clean the column\n",
    "def clean_column(text):\n",
    "    # Replace special characters and punctuation with spaces\n",
    "    text = re.sub(r'[^a-zA-Z\\s]', ' ', text)  # Replace non-alphabetic characters with spaces\n",
    "    \n",
    "    # Remove single characters that stand alone (e.g., 'a', 'I')\n",
    "    text = re.sub(r'\\b[a-zA-Z]\\b', '', text)  # Remove single alphabetic characters\n",
    "    \n",
    "    # Remove redundant whitespace (extra spaces)\n",
    "    text = ' '.join(text.split())  # Split on spaces and join back to remove extra spaces\n",
    "    \n",
    "    return text.strip()  # Remove leading/trailing spaces\n",
    "\n",
    "# Apply the cleaning function to the 'Name' column\n",
    "df_copy['product_name'] = df_copy['product_name'].apply(clean_column)"
   ]
  },
  {
   "cell_type": "code",
   "execution_count": 37,
   "metadata": {},
   "outputs": [
    {
     "data": {
      "text/plain": [
       "0      skybags casual backpack main compartments bott...\n",
       "1      fur jaden anti theft number lock backpack bag ...\n",
       "2      wesley spartan unisex travel hiking laptop bag...\n",
       "3      gear aspire medium water restant office laptop...\n",
       "4      safari casual backpack compartments front pock...\n",
       "                             ...                        \n",
       "205               skybags evo laptop backpack black grey\n",
       "206    beauty girls by hotshot school bag tuition bag...\n",
       "207    gustave inch laptop bag for men with usb earph...\n",
       "208    impulse imp omega laptop backpack office bag s...\n",
       "209    hundred cosmogear badminton kit bag navy doubl...\n",
       "Name: product_name, Length: 175, dtype: object"
      ]
     },
     "execution_count": 37,
     "metadata": {},
     "output_type": "execute_result"
    }
   ],
   "source": [
    "df_copy['product_name']"
   ]
  },
  {
   "cell_type": "markdown",
   "metadata": {},
   "source": [
    "# Removing stop words"
   ]
  },
  {
   "cell_type": "code",
   "execution_count": 38,
   "metadata": {},
   "outputs": [],
   "source": [
    "# python -m spacy download en_core_web_sm\n"
   ]
  },
  {
   "cell_type": "code",
   "execution_count": 39,
   "metadata": {},
   "outputs": [],
   "source": [
    "import spacy\n",
    "\n",
    "# Load the spacy model\n",
    "nlp = spacy.load(\"en_core_web_sm\")\n",
    "\n",
    "def preprocess_text(text):\n",
    "    doc = nlp(text)\n",
    "    # Remove stop words and lemmatize the remaining words\n",
    "    filtered_tokens = [token.lemma_ for token in doc if not token.is_stop and not token.is_punct]\n",
    "\n",
    "    # Remove duplicate words while preserving order\n",
    "    filtered_tokens = list(dict.fromkeys(filtered_tokens))\n",
    "    \n",
    "    return ' '.join(filtered_tokens)\n",
    "\n",
    "\n",
    "\n",
    "# Apply preprocessing on the 'product_name' column\n",
    "df_copy['product_name'] = df_copy['product_name'].apply(preprocess_text)"
   ]
  },
  {
   "cell_type": "code",
   "execution_count": 40,
   "metadata": {},
   "outputs": [],
   "source": [
    "df_copy.to_csv(\"dataset/cleaned_data.csv\", index=False)"
   ]
  },
  {
   "cell_type": "code",
   "execution_count": 41,
   "metadata": {},
   "outputs": [
    {
     "name": "stdout",
     "output_type": "stream",
     "text": [
      "<class 'pandas.core.frame.DataFrame'>\n",
      "Index: 175 entries, 0 to 209\n",
      "Data columns (total 8 columns):\n",
      " #   Column             Non-Null Count  Dtype \n",
      "---  ------             --------------  ----- \n",
      " 0   Product URL        175 non-null    object\n",
      " 1   Product Name       175 non-null    object\n",
      " 2   Product Price      174 non-null    object\n",
      " 3   Rating             174 non-null    object\n",
      " 4   Number of reviews  174 non-null    object\n",
      " 5   Manufacturer       131 non-null    object\n",
      " 6   ASIN               133 non-null    object\n",
      " 7   product_name       175 non-null    object\n",
      "dtypes: object(8)\n",
      "memory usage: 12.3+ KB\n"
     ]
    }
   ],
   "source": [
    "df_copy.info()"
   ]
  },
  {
   "cell_type": "code",
   "execution_count": 42,
   "metadata": {},
   "outputs": [
    {
     "data": {
      "text/plain": [
       "0      skybag casual backpack main compartment bottle...\n",
       "1      fur jaden anti theft number lock backpack bag ...\n",
       "2      wesley spartan unisex travel hike laptop bag f...\n",
       "3      gear aspire medium water restant office laptop...\n",
       "4      safari casual backpack compartment pocket bott...\n",
       "                             ...                        \n",
       "205               skybags evo laptop backpack black grey\n",
       "206    beauty girl hotshot school bag tuition college...\n",
       "207    gustave inch laptop bag man usb earphone port ...\n",
       "208    impulse imp omega laptop backpack office bag s...\n",
       "209    cosmogear badminton kit bag navy double zipper...\n",
       "Name: product_name, Length: 175, dtype: object"
      ]
     },
     "execution_count": 42,
     "metadata": {},
     "output_type": "execute_result"
    }
   ],
   "source": [
    "df_copy[\"product_name\"]"
   ]
  },
  {
   "cell_type": "code",
   "execution_count": null,
   "metadata": {},
   "outputs": [],
   "source": []
  },
  {
   "cell_type": "code",
   "execution_count": null,
   "metadata": {},
   "outputs": [],
   "source": []
  }
 ],
 "metadata": {
  "kernelspec": {
   "display_name": "scementic_search",
   "language": "python",
   "name": "python3"
  },
  "language_info": {
   "codemirror_mode": {
    "name": "ipython",
    "version": 3
   },
   "file_extension": ".py",
   "mimetype": "text/x-python",
   "name": "python",
   "nbconvert_exporter": "python",
   "pygments_lexer": "ipython3",
   "version": "3.12.6"
  }
 },
 "nbformat": 4,
 "nbformat_minor": 2
}
